{
 "cells": [
  {
   "cell_type": "code",
   "execution_count": 1,
   "metadata": {},
   "outputs": [],
   "source": [
    "import pandas as pd \n",
    "import numpy as np \n",
    "import matplotlib.pyplot as plt\n",
    "import seaborn as sns \n",
    "import plotly.express as px\n",
    "import plotly.graph_objects as go"
   ]
  },
  {
   "cell_type": "code",
   "execution_count": 2,
   "metadata": {},
   "outputs": [],
   "source": [
    "data_path = \"Data/Historical_data_5Y.csv\""
   ]
  },
  {
   "cell_type": "code",
   "execution_count": 3,
   "metadata": {},
   "outputs": [
    {
     "data": {
      "text/html": [
       "<div>\n",
       "<style scoped>\n",
       "    .dataframe tbody tr th:only-of-type {\n",
       "        vertical-align: middle;\n",
       "    }\n",
       "\n",
       "    .dataframe tbody tr th {\n",
       "        vertical-align: top;\n",
       "    }\n",
       "\n",
       "    .dataframe thead th {\n",
       "        text-align: right;\n",
       "    }\n",
       "</style>\n",
       "<table border=\"1\" class=\"dataframe\">\n",
       "  <thead>\n",
       "    <tr style=\"text-align: right;\">\n",
       "      <th></th>\n",
       "      <th>Date</th>\n",
       "      <th>Open</th>\n",
       "      <th>High</th>\n",
       "      <th>Low</th>\n",
       "      <th>Close</th>\n",
       "      <th>Adj Close</th>\n",
       "      <th>Volume</th>\n",
       "    </tr>\n",
       "  </thead>\n",
       "  <tbody>\n",
       "    <tr>\n",
       "      <th>0</th>\n",
       "      <td>2022-01-31</td>\n",
       "      <td>13.20</td>\n",
       "      <td>13.20</td>\n",
       "      <td>12.90</td>\n",
       "      <td>13.05</td>\n",
       "      <td>13.05</td>\n",
       "      <td>7582</td>\n",
       "    </tr>\n",
       "    <tr>\n",
       "      <th>1</th>\n",
       "      <td>2022-01-28</td>\n",
       "      <td>13.20</td>\n",
       "      <td>13.20</td>\n",
       "      <td>12.95</td>\n",
       "      <td>13.05</td>\n",
       "      <td>13.05</td>\n",
       "      <td>5303</td>\n",
       "    </tr>\n",
       "    <tr>\n",
       "      <th>2</th>\n",
       "      <td>2022-01-27</td>\n",
       "      <td>13.05</td>\n",
       "      <td>13.20</td>\n",
       "      <td>12.95</td>\n",
       "      <td>13.05</td>\n",
       "      <td>13.05</td>\n",
       "      <td>5538</td>\n",
       "    </tr>\n",
       "    <tr>\n",
       "      <th>3</th>\n",
       "      <td>2022-01-26</td>\n",
       "      <td>13.25</td>\n",
       "      <td>13.25</td>\n",
       "      <td>12.95</td>\n",
       "      <td>13.05</td>\n",
       "      <td>13.05</td>\n",
       "      <td>6805</td>\n",
       "    </tr>\n",
       "    <tr>\n",
       "      <th>4</th>\n",
       "      <td>2022-01-25</td>\n",
       "      <td>13.25</td>\n",
       "      <td>13.25</td>\n",
       "      <td>13.05</td>\n",
       "      <td>13.05</td>\n",
       "      <td>13.05</td>\n",
       "      <td>1968</td>\n",
       "    </tr>\n",
       "    <tr>\n",
       "      <th>...</th>\n",
       "      <td>...</td>\n",
       "      <td>...</td>\n",
       "      <td>...</td>\n",
       "      <td>...</td>\n",
       "      <td>...</td>\n",
       "      <td>...</td>\n",
       "      <td>...</td>\n",
       "    </tr>\n",
       "    <tr>\n",
       "      <th>1266</th>\n",
       "      <td>2017-02-08</td>\n",
       "      <td>12.85</td>\n",
       "      <td>13.14</td>\n",
       "      <td>12.85</td>\n",
       "      <td>13.14</td>\n",
       "      <td>0.03</td>\n",
       "      <td>1770</td>\n",
       "    </tr>\n",
       "    <tr>\n",
       "      <th>1267</th>\n",
       "      <td>2017-02-07</td>\n",
       "      <td>13.12</td>\n",
       "      <td>13.13</td>\n",
       "      <td>13.00</td>\n",
       "      <td>13.00</td>\n",
       "      <td>0.03</td>\n",
       "      <td>2882</td>\n",
       "    </tr>\n",
       "    <tr>\n",
       "      <th>1268</th>\n",
       "      <td>2017-02-06</td>\n",
       "      <td>13.12</td>\n",
       "      <td>13.12</td>\n",
       "      <td>13.12</td>\n",
       "      <td>13.12</td>\n",
       "      <td>0.03</td>\n",
       "      <td>76</td>\n",
       "    </tr>\n",
       "    <tr>\n",
       "      <th>1269</th>\n",
       "      <td>2017-02-03</td>\n",
       "      <td>13.10</td>\n",
       "      <td>13.12</td>\n",
       "      <td>13.10</td>\n",
       "      <td>13.12</td>\n",
       "      <td>0.03</td>\n",
       "      <td>288</td>\n",
       "    </tr>\n",
       "    <tr>\n",
       "      <th>1270</th>\n",
       "      <td>2017-02-02</td>\n",
       "      <td>13.12</td>\n",
       "      <td>13.12</td>\n",
       "      <td>13.11</td>\n",
       "      <td>13.12</td>\n",
       "      <td>0.03</td>\n",
       "      <td>1034</td>\n",
       "    </tr>\n",
       "  </tbody>\n",
       "</table>\n",
       "<p>1271 rows × 7 columns</p>\n",
       "</div>"
      ],
      "text/plain": [
       "           Date   Open   High    Low  Close  Adj Close  Volume\n",
       "0    2022-01-31  13.20  13.20  12.90  13.05      13.05    7582\n",
       "1    2022-01-28  13.20  13.20  12.95  13.05      13.05    5303\n",
       "2    2022-01-27  13.05  13.20  12.95  13.05      13.05    5538\n",
       "3    2022-01-26  13.25  13.25  12.95  13.05      13.05    6805\n",
       "4    2022-01-25  13.25  13.25  13.05  13.05      13.05    1968\n",
       "...         ...    ...    ...    ...    ...        ...     ...\n",
       "1266 2017-02-08  12.85  13.14  12.85  13.14       0.03    1770\n",
       "1267 2017-02-07  13.12  13.13  13.00  13.00       0.03    2882\n",
       "1268 2017-02-06  13.12  13.12  13.12  13.12       0.03      76\n",
       "1269 2017-02-03  13.10  13.12  13.10  13.12       0.03     288\n",
       "1270 2017-02-02  13.12  13.12  13.11  13.12       0.03    1034\n",
       "\n",
       "[1271 rows x 7 columns]"
      ]
     },
     "execution_count": 3,
     "metadata": {},
     "output_type": "execute_result"
    }
   ],
   "source": [
    "HD_5Y = pd.read_csv(data_path)\n",
    "HD_5Y.drop(HD_5Y.columns[HD_5Y.columns.str.contains('unnamed',case = False)],axis = 1, inplace = True)\n",
    "HD_5Y['Date'] = pd.to_datetime( HD_5Y['Date'])\n",
    "HD_5Y"
   ]
  },
  {
   "cell_type": "code",
   "execution_count": 4,
   "metadata": {},
   "outputs": [
    {
     "data": {
      "application/vnd.plotly.v1+json": {
       "config": {
        "plotlyServerURL": "https://plot.ly"
       },
       "data": [
        {
         "hovertemplate": "x=%{x}<br>y=%{y}<extra></extra>",
         "legendgroup": "",
         "line": {
          "color": "#636efa",
          "dash": "solid"
         },
         "marker": {
          "symbol": "circle"
         },
         "mode": "lines",
         "name": "",
         "orientation": "v",
         "showlegend": false,
         "type": "scatter",
         "x": [
          "2022-01-31T00:00:00",
          "2022-01-28T00:00:00",
          "2022-01-27T00:00:00",
          "2022-01-26T00:00:00",
          "2022-01-25T00:00:00",
          "2022-01-24T00:00:00",
          "2022-01-21T00:00:00",
          "2022-01-20T00:00:00",
          "2022-01-19T00:00:00",
          "2022-01-18T00:00:00",
          "2022-01-17T00:00:00",
          "2022-01-14T00:00:00",
          "2022-01-13T00:00:00",
          "2022-01-12T00:00:00",
          "2022-01-11T00:00:00",
          "2022-01-10T00:00:00",
          "2022-01-07T00:00:00",
          "2022-01-06T00:00:00",
          "2022-01-05T00:00:00",
          "2022-01-04T00:00:00",
          "2022-01-03T00:00:00",
          "2021-12-31T00:00:00",
          "2021-12-30T00:00:00",
          "2021-12-29T00:00:00",
          "2021-12-28T00:00:00",
          "2021-12-27T00:00:00",
          "2021-12-24T00:00:00",
          "2021-12-23T00:00:00",
          "2021-12-22T00:00:00",
          "2021-12-21T00:00:00",
          "2021-12-20T00:00:00",
          "2021-12-17T00:00:00",
          "2021-12-16T00:00:00",
          "2021-12-15T00:00:00",
          "2021-12-14T00:00:00",
          "2021-12-13T00:00:00",
          "2021-12-10T00:00:00",
          "2021-12-09T00:00:00",
          "2021-12-08T00:00:00",
          "2021-12-07T00:00:00",
          "2021-12-06T00:00:00",
          "2021-12-03T00:00:00",
          "2021-12-02T00:00:00",
          "2021-12-01T00:00:00",
          "2021-11-30T00:00:00",
          "2021-11-29T00:00:00",
          "2021-11-26T00:00:00",
          "2021-11-25T00:00:00",
          "2021-11-24T00:00:00",
          "2021-11-23T00:00:00",
          "2021-11-22T00:00:00",
          "2021-11-19T00:00:00",
          "2021-11-18T00:00:00",
          "2021-11-17T00:00:00",
          "2021-11-16T00:00:00",
          "2021-11-15T00:00:00",
          "2021-11-12T00:00:00",
          "2021-11-11T00:00:00",
          "2021-11-10T00:00:00",
          "2021-11-09T00:00:00"
         ],
         "xaxis": "x",
         "y": [
          13.05,
          13.05,
          13.05,
          13.05,
          13.05,
          13.05,
          13.15,
          13.15,
          13.25,
          13.15,
          13.05,
          13.05,
          13.15,
          13.2,
          13.2,
          13.3,
          13.15,
          13.15,
          13.25,
          13.2,
          13.3,
          13.35,
          13.35,
          13.3,
          13.1,
          13.05,
          13.1,
          13.25,
          13.15,
          13.3,
          13.4,
          13.4,
          13.35,
          13.2,
          13.3,
          13.4,
          13.45,
          13.45,
          13.25,
          13.5,
          13.5,
          13.35,
          13.25,
          13.5,
          13.4,
          13.4,
          13.5,
          13.65,
          13.65,
          13.65,
          13.5,
          13.3,
          13.45,
          13.5,
          13.4,
          13.45,
          13.55,
          13.6,
          13.45,
          13.55
         ],
         "yaxis": "y"
        }
       ],
       "layout": {
        "legend": {
         "tracegroupgap": 0
        },
        "margin": {
         "t": 60
        },
        "template": {
         "data": {
          "bar": [
           {
            "error_x": {
             "color": "#f2f5fa"
            },
            "error_y": {
             "color": "#f2f5fa"
            },
            "marker": {
             "line": {
              "color": "rgb(17,17,17)",
              "width": 0.5
             },
             "pattern": {
              "fillmode": "overlay",
              "size": 10,
              "solidity": 0.2
             }
            },
            "type": "bar"
           }
          ],
          "barpolar": [
           {
            "marker": {
             "line": {
              "color": "rgb(17,17,17)",
              "width": 0.5
             },
             "pattern": {
              "fillmode": "overlay",
              "size": 10,
              "solidity": 0.2
             }
            },
            "type": "barpolar"
           }
          ],
          "carpet": [
           {
            "aaxis": {
             "endlinecolor": "#A2B1C6",
             "gridcolor": "#506784",
             "linecolor": "#506784",
             "minorgridcolor": "#506784",
             "startlinecolor": "#A2B1C6"
            },
            "baxis": {
             "endlinecolor": "#A2B1C6",
             "gridcolor": "#506784",
             "linecolor": "#506784",
             "minorgridcolor": "#506784",
             "startlinecolor": "#A2B1C6"
            },
            "type": "carpet"
           }
          ],
          "choropleth": [
           {
            "colorbar": {
             "outlinewidth": 0,
             "ticks": ""
            },
            "type": "choropleth"
           }
          ],
          "contour": [
           {
            "colorbar": {
             "outlinewidth": 0,
             "ticks": ""
            },
            "colorscale": [
             [
              0,
              "#0d0887"
             ],
             [
              0.1111111111111111,
              "#46039f"
             ],
             [
              0.2222222222222222,
              "#7201a8"
             ],
             [
              0.3333333333333333,
              "#9c179e"
             ],
             [
              0.4444444444444444,
              "#bd3786"
             ],
             [
              0.5555555555555556,
              "#d8576b"
             ],
             [
              0.6666666666666666,
              "#ed7953"
             ],
             [
              0.7777777777777778,
              "#fb9f3a"
             ],
             [
              0.8888888888888888,
              "#fdca26"
             ],
             [
              1,
              "#f0f921"
             ]
            ],
            "type": "contour"
           }
          ],
          "contourcarpet": [
           {
            "colorbar": {
             "outlinewidth": 0,
             "ticks": ""
            },
            "type": "contourcarpet"
           }
          ],
          "heatmap": [
           {
            "colorbar": {
             "outlinewidth": 0,
             "ticks": ""
            },
            "colorscale": [
             [
              0,
              "#0d0887"
             ],
             [
              0.1111111111111111,
              "#46039f"
             ],
             [
              0.2222222222222222,
              "#7201a8"
             ],
             [
              0.3333333333333333,
              "#9c179e"
             ],
             [
              0.4444444444444444,
              "#bd3786"
             ],
             [
              0.5555555555555556,
              "#d8576b"
             ],
             [
              0.6666666666666666,
              "#ed7953"
             ],
             [
              0.7777777777777778,
              "#fb9f3a"
             ],
             [
              0.8888888888888888,
              "#fdca26"
             ],
             [
              1,
              "#f0f921"
             ]
            ],
            "type": "heatmap"
           }
          ],
          "heatmapgl": [
           {
            "colorbar": {
             "outlinewidth": 0,
             "ticks": ""
            },
            "colorscale": [
             [
              0,
              "#0d0887"
             ],
             [
              0.1111111111111111,
              "#46039f"
             ],
             [
              0.2222222222222222,
              "#7201a8"
             ],
             [
              0.3333333333333333,
              "#9c179e"
             ],
             [
              0.4444444444444444,
              "#bd3786"
             ],
             [
              0.5555555555555556,
              "#d8576b"
             ],
             [
              0.6666666666666666,
              "#ed7953"
             ],
             [
              0.7777777777777778,
              "#fb9f3a"
             ],
             [
              0.8888888888888888,
              "#fdca26"
             ],
             [
              1,
              "#f0f921"
             ]
            ],
            "type": "heatmapgl"
           }
          ],
          "histogram": [
           {
            "marker": {
             "pattern": {
              "fillmode": "overlay",
              "size": 10,
              "solidity": 0.2
             }
            },
            "type": "histogram"
           }
          ],
          "histogram2d": [
           {
            "colorbar": {
             "outlinewidth": 0,
             "ticks": ""
            },
            "colorscale": [
             [
              0,
              "#0d0887"
             ],
             [
              0.1111111111111111,
              "#46039f"
             ],
             [
              0.2222222222222222,
              "#7201a8"
             ],
             [
              0.3333333333333333,
              "#9c179e"
             ],
             [
              0.4444444444444444,
              "#bd3786"
             ],
             [
              0.5555555555555556,
              "#d8576b"
             ],
             [
              0.6666666666666666,
              "#ed7953"
             ],
             [
              0.7777777777777778,
              "#fb9f3a"
             ],
             [
              0.8888888888888888,
              "#fdca26"
             ],
             [
              1,
              "#f0f921"
             ]
            ],
            "type": "histogram2d"
           }
          ],
          "histogram2dcontour": [
           {
            "colorbar": {
             "outlinewidth": 0,
             "ticks": ""
            },
            "colorscale": [
             [
              0,
              "#0d0887"
             ],
             [
              0.1111111111111111,
              "#46039f"
             ],
             [
              0.2222222222222222,
              "#7201a8"
             ],
             [
              0.3333333333333333,
              "#9c179e"
             ],
             [
              0.4444444444444444,
              "#bd3786"
             ],
             [
              0.5555555555555556,
              "#d8576b"
             ],
             [
              0.6666666666666666,
              "#ed7953"
             ],
             [
              0.7777777777777778,
              "#fb9f3a"
             ],
             [
              0.8888888888888888,
              "#fdca26"
             ],
             [
              1,
              "#f0f921"
             ]
            ],
            "type": "histogram2dcontour"
           }
          ],
          "mesh3d": [
           {
            "colorbar": {
             "outlinewidth": 0,
             "ticks": ""
            },
            "type": "mesh3d"
           }
          ],
          "parcoords": [
           {
            "line": {
             "colorbar": {
              "outlinewidth": 0,
              "ticks": ""
             }
            },
            "type": "parcoords"
           }
          ],
          "pie": [
           {
            "automargin": true,
            "type": "pie"
           }
          ],
          "scatter": [
           {
            "marker": {
             "line": {
              "color": "#283442"
             }
            },
            "type": "scatter"
           }
          ],
          "scatter3d": [
           {
            "line": {
             "colorbar": {
              "outlinewidth": 0,
              "ticks": ""
             }
            },
            "marker": {
             "colorbar": {
              "outlinewidth": 0,
              "ticks": ""
             }
            },
            "type": "scatter3d"
           }
          ],
          "scattercarpet": [
           {
            "marker": {
             "colorbar": {
              "outlinewidth": 0,
              "ticks": ""
             }
            },
            "type": "scattercarpet"
           }
          ],
          "scattergeo": [
           {
            "marker": {
             "colorbar": {
              "outlinewidth": 0,
              "ticks": ""
             }
            },
            "type": "scattergeo"
           }
          ],
          "scattergl": [
           {
            "marker": {
             "line": {
              "color": "#283442"
             }
            },
            "type": "scattergl"
           }
          ],
          "scattermapbox": [
           {
            "marker": {
             "colorbar": {
              "outlinewidth": 0,
              "ticks": ""
             }
            },
            "type": "scattermapbox"
           }
          ],
          "scatterpolar": [
           {
            "marker": {
             "colorbar": {
              "outlinewidth": 0,
              "ticks": ""
             }
            },
            "type": "scatterpolar"
           }
          ],
          "scatterpolargl": [
           {
            "marker": {
             "colorbar": {
              "outlinewidth": 0,
              "ticks": ""
             }
            },
            "type": "scatterpolargl"
           }
          ],
          "scatterternary": [
           {
            "marker": {
             "colorbar": {
              "outlinewidth": 0,
              "ticks": ""
             }
            },
            "type": "scatterternary"
           }
          ],
          "surface": [
           {
            "colorbar": {
             "outlinewidth": 0,
             "ticks": ""
            },
            "colorscale": [
             [
              0,
              "#0d0887"
             ],
             [
              0.1111111111111111,
              "#46039f"
             ],
             [
              0.2222222222222222,
              "#7201a8"
             ],
             [
              0.3333333333333333,
              "#9c179e"
             ],
             [
              0.4444444444444444,
              "#bd3786"
             ],
             [
              0.5555555555555556,
              "#d8576b"
             ],
             [
              0.6666666666666666,
              "#ed7953"
             ],
             [
              0.7777777777777778,
              "#fb9f3a"
             ],
             [
              0.8888888888888888,
              "#fdca26"
             ],
             [
              1,
              "#f0f921"
             ]
            ],
            "type": "surface"
           }
          ],
          "table": [
           {
            "cells": {
             "fill": {
              "color": "#506784"
             },
             "line": {
              "color": "rgb(17,17,17)"
             }
            },
            "header": {
             "fill": {
              "color": "#2a3f5f"
             },
             "line": {
              "color": "rgb(17,17,17)"
             }
            },
            "type": "table"
           }
          ]
         },
         "layout": {
          "annotationdefaults": {
           "arrowcolor": "#f2f5fa",
           "arrowhead": 0,
           "arrowwidth": 1
          },
          "autotypenumbers": "strict",
          "coloraxis": {
           "colorbar": {
            "outlinewidth": 0,
            "ticks": ""
           }
          },
          "colorscale": {
           "diverging": [
            [
             0,
             "#8e0152"
            ],
            [
             0.1,
             "#c51b7d"
            ],
            [
             0.2,
             "#de77ae"
            ],
            [
             0.3,
             "#f1b6da"
            ],
            [
             0.4,
             "#fde0ef"
            ],
            [
             0.5,
             "#f7f7f7"
            ],
            [
             0.6,
             "#e6f5d0"
            ],
            [
             0.7,
             "#b8e186"
            ],
            [
             0.8,
             "#7fbc41"
            ],
            [
             0.9,
             "#4d9221"
            ],
            [
             1,
             "#276419"
            ]
           ],
           "sequential": [
            [
             0,
             "#0d0887"
            ],
            [
             0.1111111111111111,
             "#46039f"
            ],
            [
             0.2222222222222222,
             "#7201a8"
            ],
            [
             0.3333333333333333,
             "#9c179e"
            ],
            [
             0.4444444444444444,
             "#bd3786"
            ],
            [
             0.5555555555555556,
             "#d8576b"
            ],
            [
             0.6666666666666666,
             "#ed7953"
            ],
            [
             0.7777777777777778,
             "#fb9f3a"
            ],
            [
             0.8888888888888888,
             "#fdca26"
            ],
            [
             1,
             "#f0f921"
            ]
           ],
           "sequentialminus": [
            [
             0,
             "#0d0887"
            ],
            [
             0.1111111111111111,
             "#46039f"
            ],
            [
             0.2222222222222222,
             "#7201a8"
            ],
            [
             0.3333333333333333,
             "#9c179e"
            ],
            [
             0.4444444444444444,
             "#bd3786"
            ],
            [
             0.5555555555555556,
             "#d8576b"
            ],
            [
             0.6666666666666666,
             "#ed7953"
            ],
            [
             0.7777777777777778,
             "#fb9f3a"
            ],
            [
             0.8888888888888888,
             "#fdca26"
            ],
            [
             1,
             "#f0f921"
            ]
           ]
          },
          "colorway": [
           "#636efa",
           "#EF553B",
           "#00cc96",
           "#ab63fa",
           "#FFA15A",
           "#19d3f3",
           "#FF6692",
           "#B6E880",
           "#FF97FF",
           "#FECB52"
          ],
          "font": {
           "color": "#f2f5fa"
          },
          "geo": {
           "bgcolor": "rgb(17,17,17)",
           "lakecolor": "rgb(17,17,17)",
           "landcolor": "rgb(17,17,17)",
           "showlakes": true,
           "showland": true,
           "subunitcolor": "#506784"
          },
          "hoverlabel": {
           "align": "left"
          },
          "hovermode": "closest",
          "mapbox": {
           "style": "dark"
          },
          "paper_bgcolor": "rgb(17,17,17)",
          "plot_bgcolor": "rgb(17,17,17)",
          "polar": {
           "angularaxis": {
            "gridcolor": "#506784",
            "linecolor": "#506784",
            "ticks": ""
           },
           "bgcolor": "rgb(17,17,17)",
           "radialaxis": {
            "gridcolor": "#506784",
            "linecolor": "#506784",
            "ticks": ""
           }
          },
          "scene": {
           "xaxis": {
            "backgroundcolor": "rgb(17,17,17)",
            "gridcolor": "#506784",
            "gridwidth": 2,
            "linecolor": "#506784",
            "showbackground": true,
            "ticks": "",
            "zerolinecolor": "#C8D4E3"
           },
           "yaxis": {
            "backgroundcolor": "rgb(17,17,17)",
            "gridcolor": "#506784",
            "gridwidth": 2,
            "linecolor": "#506784",
            "showbackground": true,
            "ticks": "",
            "zerolinecolor": "#C8D4E3"
           },
           "zaxis": {
            "backgroundcolor": "rgb(17,17,17)",
            "gridcolor": "#506784",
            "gridwidth": 2,
            "linecolor": "#506784",
            "showbackground": true,
            "ticks": "",
            "zerolinecolor": "#C8D4E3"
           }
          },
          "shapedefaults": {
           "line": {
            "color": "#f2f5fa"
           }
          },
          "sliderdefaults": {
           "bgcolor": "#C8D4E3",
           "bordercolor": "rgb(17,17,17)",
           "borderwidth": 1,
           "tickwidth": 0
          },
          "ternary": {
           "aaxis": {
            "gridcolor": "#506784",
            "linecolor": "#506784",
            "ticks": ""
           },
           "baxis": {
            "gridcolor": "#506784",
            "linecolor": "#506784",
            "ticks": ""
           },
           "bgcolor": "rgb(17,17,17)",
           "caxis": {
            "gridcolor": "#506784",
            "linecolor": "#506784",
            "ticks": ""
           }
          },
          "title": {
           "x": 0.05
          },
          "updatemenudefaults": {
           "bgcolor": "#506784",
           "borderwidth": 0
          },
          "xaxis": {
           "automargin": true,
           "gridcolor": "#283442",
           "linecolor": "#506784",
           "ticks": "",
           "title": {
            "standoff": 15
           },
           "zerolinecolor": "#283442",
           "zerolinewidth": 2
          },
          "yaxis": {
           "automargin": true,
           "gridcolor": "#283442",
           "linecolor": "#506784",
           "ticks": "",
           "title": {
            "standoff": 15
           },
           "zerolinecolor": "#283442",
           "zerolinewidth": 2
          }
         }
        },
        "xaxis": {
         "anchor": "y",
         "domain": [
          0,
          1
         ],
         "dtick": "M1",
         "tickformat": "%b\n%Y",
         "title": {
          "text": "x"
         }
        },
        "yaxis": {
         "anchor": "x",
         "domain": [
          0,
          1
         ],
         "title": {
          "text": "y"
         }
        }
       }
      }
     },
     "metadata": {},
     "output_type": "display_data"
    }
   ],
   "source": [
    "fig = px.line(HD_5Y, x=HD_5Y.iloc[:60]['Date'], y=HD_5Y.iloc[:60]['Close'])\n",
    "fig.update_xaxes(\n",
    "    dtick=\"M1\",\n",
    "    tickformat=\"%b\\n%Y\")\n",
    "\n",
    "fig.update_layout(template=\"plotly_dark\")\n",
    "fig.show()"
   ]
  },
  {
   "cell_type": "code",
   "execution_count": 5,
   "metadata": {},
   "outputs": [],
   "source": [
    "HD_5Y_smooth = HD_5Y.ewm(0.7).mean()"
   ]
  },
  {
   "cell_type": "code",
   "execution_count": 6,
   "metadata": {},
   "outputs": [
    {
     "data": {
      "text/html": [
       "<div>\n",
       "<style scoped>\n",
       "    .dataframe tbody tr th:only-of-type {\n",
       "        vertical-align: middle;\n",
       "    }\n",
       "\n",
       "    .dataframe tbody tr th {\n",
       "        vertical-align: top;\n",
       "    }\n",
       "\n",
       "    .dataframe thead th {\n",
       "        text-align: right;\n",
       "    }\n",
       "</style>\n",
       "<table border=\"1\" class=\"dataframe\">\n",
       "  <thead>\n",
       "    <tr style=\"text-align: right;\">\n",
       "      <th></th>\n",
       "      <th>Open</th>\n",
       "      <th>High</th>\n",
       "      <th>Low</th>\n",
       "      <th>Close</th>\n",
       "      <th>Adj Close</th>\n",
       "      <th>Volume</th>\n",
       "    </tr>\n",
       "  </thead>\n",
       "  <tbody>\n",
       "    <tr>\n",
       "      <th>0</th>\n",
       "      <td>13.200000</td>\n",
       "      <td>13.200000</td>\n",
       "      <td>12.900000</td>\n",
       "      <td>13.050000</td>\n",
       "      <td>13.05</td>\n",
       "      <td>7582.000000</td>\n",
       "    </tr>\n",
       "    <tr>\n",
       "      <th>1</th>\n",
       "      <td>13.200000</td>\n",
       "      <td>13.200000</td>\n",
       "      <td>12.935417</td>\n",
       "      <td>13.050000</td>\n",
       "      <td>13.05</td>\n",
       "      <td>5967.708333</td>\n",
       "    </tr>\n",
       "    <tr>\n",
       "      <th>2</th>\n",
       "      <td>13.105142</td>\n",
       "      <td>13.200000</td>\n",
       "      <td>12.944639</td>\n",
       "      <td>13.050000</td>\n",
       "      <td>13.05</td>\n",
       "      <td>5695.967177</td>\n",
       "    </tr>\n",
       "    <tr>\n",
       "      <th>3</th>\n",
       "      <td>13.192875</td>\n",
       "      <td>13.230282</td>\n",
       "      <td>12.947886</td>\n",
       "      <td>13.050000</td>\n",
       "      <td>13.05</td>\n",
       "      <td>6367.648422</td>\n",
       "    </tr>\n",
       "    <tr>\n",
       "      <th>4</th>\n",
       "      <td>13.226880</td>\n",
       "      <td>13.242020</td>\n",
       "      <td>13.008673</td>\n",
       "      <td>13.050000</td>\n",
       "      <td>13.05</td>\n",
       "      <td>3748.618196</td>\n",
       "    </tr>\n",
       "    <tr>\n",
       "      <th>...</th>\n",
       "      <td>...</td>\n",
       "      <td>...</td>\n",
       "      <td>...</td>\n",
       "      <td>...</td>\n",
       "      <td>...</td>\n",
       "      <td>...</td>\n",
       "    </tr>\n",
       "    <tr>\n",
       "      <th>1266</th>\n",
       "      <td>12.976237</td>\n",
       "      <td>13.151969</td>\n",
       "      <td>12.968241</td>\n",
       "      <td>13.143974</td>\n",
       "      <td>0.03</td>\n",
       "      <td>1094.331792</td>\n",
       "    </tr>\n",
       "    <tr>\n",
       "      <th>1267</th>\n",
       "      <td>13.060803</td>\n",
       "      <td>13.139046</td>\n",
       "      <td>12.986923</td>\n",
       "      <td>13.059283</td>\n",
       "      <td>0.03</td>\n",
       "      <td>2145.901326</td>\n",
       "    </tr>\n",
       "    <tr>\n",
       "      <th>1268</th>\n",
       "      <td>13.095625</td>\n",
       "      <td>13.127843</td>\n",
       "      <td>13.065203</td>\n",
       "      <td>13.094999</td>\n",
       "      <td>0.03</td>\n",
       "      <td>928.312311</td>\n",
       "    </tr>\n",
       "    <tr>\n",
       "      <th>1269</th>\n",
       "      <td>13.098198</td>\n",
       "      <td>13.123229</td>\n",
       "      <td>13.085672</td>\n",
       "      <td>13.109705</td>\n",
       "      <td>0.03</td>\n",
       "      <td>551.658010</td>\n",
       "    </tr>\n",
       "    <tr>\n",
       "      <th>1270</th>\n",
       "      <td>13.111023</td>\n",
       "      <td>13.121330</td>\n",
       "      <td>13.099983</td>\n",
       "      <td>13.115761</td>\n",
       "      <td>0.03</td>\n",
       "      <td>835.388592</td>\n",
       "    </tr>\n",
       "  </tbody>\n",
       "</table>\n",
       "<p>1271 rows × 6 columns</p>\n",
       "</div>"
      ],
      "text/plain": [
       "           Open       High        Low      Close  Adj Close       Volume\n",
       "0     13.200000  13.200000  12.900000  13.050000      13.05  7582.000000\n",
       "1     13.200000  13.200000  12.935417  13.050000      13.05  5967.708333\n",
       "2     13.105142  13.200000  12.944639  13.050000      13.05  5695.967177\n",
       "3     13.192875  13.230282  12.947886  13.050000      13.05  6367.648422\n",
       "4     13.226880  13.242020  13.008673  13.050000      13.05  3748.618196\n",
       "...         ...        ...        ...        ...        ...          ...\n",
       "1266  12.976237  13.151969  12.968241  13.143974       0.03  1094.331792\n",
       "1267  13.060803  13.139046  12.986923  13.059283       0.03  2145.901326\n",
       "1268  13.095625  13.127843  13.065203  13.094999       0.03   928.312311\n",
       "1269  13.098198  13.123229  13.085672  13.109705       0.03   551.658010\n",
       "1270  13.111023  13.121330  13.099983  13.115761       0.03   835.388592\n",
       "\n",
       "[1271 rows x 6 columns]"
      ]
     },
     "execution_count": 6,
     "metadata": {},
     "output_type": "execute_result"
    }
   ],
   "source": [
    "HD_5Y_smooth"
   ]
  },
  {
   "cell_type": "code",
   "execution_count": 7,
   "metadata": {},
   "outputs": [
    {
     "data": {
      "application/vnd.plotly.v1+json": {
       "config": {
        "plotlyServerURL": "https://plot.ly"
       },
       "data": [
        {
         "hovertemplate": "x=%{x}<br>y=%{y}<extra></extra>",
         "legendgroup": "",
         "line": {
          "color": "#636efa",
          "dash": "solid"
         },
         "marker": {
          "symbol": "circle"
         },
         "mode": "lines",
         "name": "",
         "orientation": "v",
         "showlegend": false,
         "type": "scatter",
         "x": [
          "2022-01-31T00:00:00",
          "2022-01-28T00:00:00",
          "2022-01-27T00:00:00",
          "2022-01-26T00:00:00",
          "2022-01-25T00:00:00",
          "2022-01-24T00:00:00",
          "2022-01-21T00:00:00",
          "2022-01-20T00:00:00",
          "2022-01-19T00:00:00",
          "2022-01-18T00:00:00",
          "2022-01-17T00:00:00",
          "2022-01-14T00:00:00",
          "2022-01-13T00:00:00",
          "2022-01-12T00:00:00",
          "2022-01-11T00:00:00",
          "2022-01-10T00:00:00",
          "2022-01-07T00:00:00",
          "2022-01-06T00:00:00",
          "2022-01-05T00:00:00",
          "2022-01-04T00:00:00",
          "2022-01-03T00:00:00",
          "2021-12-31T00:00:00",
          "2021-12-30T00:00:00",
          "2021-12-29T00:00:00",
          "2021-12-28T00:00:00",
          "2021-12-27T00:00:00",
          "2021-12-24T00:00:00",
          "2021-12-23T00:00:00",
          "2021-12-22T00:00:00",
          "2021-12-21T00:00:00",
          "2021-12-20T00:00:00",
          "2021-12-17T00:00:00",
          "2021-12-16T00:00:00",
          "2021-12-15T00:00:00",
          "2021-12-14T00:00:00",
          "2021-12-13T00:00:00",
          "2021-12-10T00:00:00",
          "2021-12-09T00:00:00",
          "2021-12-08T00:00:00",
          "2021-12-07T00:00:00",
          "2021-12-06T00:00:00",
          "2021-12-03T00:00:00",
          "2021-12-02T00:00:00",
          "2021-12-01T00:00:00",
          "2021-11-30T00:00:00",
          "2021-11-29T00:00:00",
          "2021-11-26T00:00:00",
          "2021-11-25T00:00:00",
          "2021-11-24T00:00:00",
          "2021-11-23T00:00:00",
          "2021-11-22T00:00:00",
          "2021-11-19T00:00:00",
          "2021-11-18T00:00:00",
          "2021-11-17T00:00:00",
          "2021-11-16T00:00:00",
          "2021-11-15T00:00:00",
          "2021-11-12T00:00:00",
          "2021-11-11T00:00:00",
          "2021-11-10T00:00:00",
          "2021-11-09T00:00:00"
         ],
         "xaxis": "x",
         "y": [
          13.05,
          13.05,
          13.05,
          13.05,
          13.05,
          13.05,
          13.108941824689115,
          13.133113668252024,
          13.201893738772663,
          13.171363732306435,
          13.099969182409211,
          13.07057484738019,
          13.11729598242944,
          13.16594560048962,
          13.185977633426367,
          13.25304965957032,
          13.192432195717846,
          13.167472077699482,
          13.216017916661494,
          13.206595612557981,
          13.261539370320987,
          13.313575035011267,
          13.335001485034008,
          13.314412376178854,
          13.18828744898551,
          13.106941890750957,
          13.102858425603175,
          13.18941229289683,
          13.166228591192658,
          13.244917655197192,
          13.33614256390483,
          13.373705761607889,
          13.359761195956189,
          13.265784021864304,
          13.285911067826481,
          13.35302220439914,
          13.410067966517294,
          13.433557397977708,
          13.325582457990821,
          13.428181012113868,
          13.4704274755763,
          13.399587784060829,
          13.3115949699074,
          13.422421458197165,
          13.409232365140012,
          13.403801562116477,
          13.46038887851855,
          13.57192483233117,
          13.61785140154813,
          13.636762341813938,
          13.5563139054528,
          13.405541019892329,
          13.431693361132135,
          13.471873736936763,
          13.429595068150434,
          13.441597969238414,
          13.505363869686407,
          13.561032181635579,
          13.49571913361465,
          13.527649055017799
         ],
         "yaxis": "y"
        }
       ],
       "layout": {
        "legend": {
         "tracegroupgap": 0
        },
        "margin": {
         "t": 60
        },
        "template": {
         "data": {
          "bar": [
           {
            "error_x": {
             "color": "#f2f5fa"
            },
            "error_y": {
             "color": "#f2f5fa"
            },
            "marker": {
             "line": {
              "color": "rgb(17,17,17)",
              "width": 0.5
             },
             "pattern": {
              "fillmode": "overlay",
              "size": 10,
              "solidity": 0.2
             }
            },
            "type": "bar"
           }
          ],
          "barpolar": [
           {
            "marker": {
             "line": {
              "color": "rgb(17,17,17)",
              "width": 0.5
             },
             "pattern": {
              "fillmode": "overlay",
              "size": 10,
              "solidity": 0.2
             }
            },
            "type": "barpolar"
           }
          ],
          "carpet": [
           {
            "aaxis": {
             "endlinecolor": "#A2B1C6",
             "gridcolor": "#506784",
             "linecolor": "#506784",
             "minorgridcolor": "#506784",
             "startlinecolor": "#A2B1C6"
            },
            "baxis": {
             "endlinecolor": "#A2B1C6",
             "gridcolor": "#506784",
             "linecolor": "#506784",
             "minorgridcolor": "#506784",
             "startlinecolor": "#A2B1C6"
            },
            "type": "carpet"
           }
          ],
          "choropleth": [
           {
            "colorbar": {
             "outlinewidth": 0,
             "ticks": ""
            },
            "type": "choropleth"
           }
          ],
          "contour": [
           {
            "colorbar": {
             "outlinewidth": 0,
             "ticks": ""
            },
            "colorscale": [
             [
              0,
              "#0d0887"
             ],
             [
              0.1111111111111111,
              "#46039f"
             ],
             [
              0.2222222222222222,
              "#7201a8"
             ],
             [
              0.3333333333333333,
              "#9c179e"
             ],
             [
              0.4444444444444444,
              "#bd3786"
             ],
             [
              0.5555555555555556,
              "#d8576b"
             ],
             [
              0.6666666666666666,
              "#ed7953"
             ],
             [
              0.7777777777777778,
              "#fb9f3a"
             ],
             [
              0.8888888888888888,
              "#fdca26"
             ],
             [
              1,
              "#f0f921"
             ]
            ],
            "type": "contour"
           }
          ],
          "contourcarpet": [
           {
            "colorbar": {
             "outlinewidth": 0,
             "ticks": ""
            },
            "type": "contourcarpet"
           }
          ],
          "heatmap": [
           {
            "colorbar": {
             "outlinewidth": 0,
             "ticks": ""
            },
            "colorscale": [
             [
              0,
              "#0d0887"
             ],
             [
              0.1111111111111111,
              "#46039f"
             ],
             [
              0.2222222222222222,
              "#7201a8"
             ],
             [
              0.3333333333333333,
              "#9c179e"
             ],
             [
              0.4444444444444444,
              "#bd3786"
             ],
             [
              0.5555555555555556,
              "#d8576b"
             ],
             [
              0.6666666666666666,
              "#ed7953"
             ],
             [
              0.7777777777777778,
              "#fb9f3a"
             ],
             [
              0.8888888888888888,
              "#fdca26"
             ],
             [
              1,
              "#f0f921"
             ]
            ],
            "type": "heatmap"
           }
          ],
          "heatmapgl": [
           {
            "colorbar": {
             "outlinewidth": 0,
             "ticks": ""
            },
            "colorscale": [
             [
              0,
              "#0d0887"
             ],
             [
              0.1111111111111111,
              "#46039f"
             ],
             [
              0.2222222222222222,
              "#7201a8"
             ],
             [
              0.3333333333333333,
              "#9c179e"
             ],
             [
              0.4444444444444444,
              "#bd3786"
             ],
             [
              0.5555555555555556,
              "#d8576b"
             ],
             [
              0.6666666666666666,
              "#ed7953"
             ],
             [
              0.7777777777777778,
              "#fb9f3a"
             ],
             [
              0.8888888888888888,
              "#fdca26"
             ],
             [
              1,
              "#f0f921"
             ]
            ],
            "type": "heatmapgl"
           }
          ],
          "histogram": [
           {
            "marker": {
             "pattern": {
              "fillmode": "overlay",
              "size": 10,
              "solidity": 0.2
             }
            },
            "type": "histogram"
           }
          ],
          "histogram2d": [
           {
            "colorbar": {
             "outlinewidth": 0,
             "ticks": ""
            },
            "colorscale": [
             [
              0,
              "#0d0887"
             ],
             [
              0.1111111111111111,
              "#46039f"
             ],
             [
              0.2222222222222222,
              "#7201a8"
             ],
             [
              0.3333333333333333,
              "#9c179e"
             ],
             [
              0.4444444444444444,
              "#bd3786"
             ],
             [
              0.5555555555555556,
              "#d8576b"
             ],
             [
              0.6666666666666666,
              "#ed7953"
             ],
             [
              0.7777777777777778,
              "#fb9f3a"
             ],
             [
              0.8888888888888888,
              "#fdca26"
             ],
             [
              1,
              "#f0f921"
             ]
            ],
            "type": "histogram2d"
           }
          ],
          "histogram2dcontour": [
           {
            "colorbar": {
             "outlinewidth": 0,
             "ticks": ""
            },
            "colorscale": [
             [
              0,
              "#0d0887"
             ],
             [
              0.1111111111111111,
              "#46039f"
             ],
             [
              0.2222222222222222,
              "#7201a8"
             ],
             [
              0.3333333333333333,
              "#9c179e"
             ],
             [
              0.4444444444444444,
              "#bd3786"
             ],
             [
              0.5555555555555556,
              "#d8576b"
             ],
             [
              0.6666666666666666,
              "#ed7953"
             ],
             [
              0.7777777777777778,
              "#fb9f3a"
             ],
             [
              0.8888888888888888,
              "#fdca26"
             ],
             [
              1,
              "#f0f921"
             ]
            ],
            "type": "histogram2dcontour"
           }
          ],
          "mesh3d": [
           {
            "colorbar": {
             "outlinewidth": 0,
             "ticks": ""
            },
            "type": "mesh3d"
           }
          ],
          "parcoords": [
           {
            "line": {
             "colorbar": {
              "outlinewidth": 0,
              "ticks": ""
             }
            },
            "type": "parcoords"
           }
          ],
          "pie": [
           {
            "automargin": true,
            "type": "pie"
           }
          ],
          "scatter": [
           {
            "marker": {
             "line": {
              "color": "#283442"
             }
            },
            "type": "scatter"
           }
          ],
          "scatter3d": [
           {
            "line": {
             "colorbar": {
              "outlinewidth": 0,
              "ticks": ""
             }
            },
            "marker": {
             "colorbar": {
              "outlinewidth": 0,
              "ticks": ""
             }
            },
            "type": "scatter3d"
           }
          ],
          "scattercarpet": [
           {
            "marker": {
             "colorbar": {
              "outlinewidth": 0,
              "ticks": ""
             }
            },
            "type": "scattercarpet"
           }
          ],
          "scattergeo": [
           {
            "marker": {
             "colorbar": {
              "outlinewidth": 0,
              "ticks": ""
             }
            },
            "type": "scattergeo"
           }
          ],
          "scattergl": [
           {
            "marker": {
             "line": {
              "color": "#283442"
             }
            },
            "type": "scattergl"
           }
          ],
          "scattermapbox": [
           {
            "marker": {
             "colorbar": {
              "outlinewidth": 0,
              "ticks": ""
             }
            },
            "type": "scattermapbox"
           }
          ],
          "scatterpolar": [
           {
            "marker": {
             "colorbar": {
              "outlinewidth": 0,
              "ticks": ""
             }
            },
            "type": "scatterpolar"
           }
          ],
          "scatterpolargl": [
           {
            "marker": {
             "colorbar": {
              "outlinewidth": 0,
              "ticks": ""
             }
            },
            "type": "scatterpolargl"
           }
          ],
          "scatterternary": [
           {
            "marker": {
             "colorbar": {
              "outlinewidth": 0,
              "ticks": ""
             }
            },
            "type": "scatterternary"
           }
          ],
          "surface": [
           {
            "colorbar": {
             "outlinewidth": 0,
             "ticks": ""
            },
            "colorscale": [
             [
              0,
              "#0d0887"
             ],
             [
              0.1111111111111111,
              "#46039f"
             ],
             [
              0.2222222222222222,
              "#7201a8"
             ],
             [
              0.3333333333333333,
              "#9c179e"
             ],
             [
              0.4444444444444444,
              "#bd3786"
             ],
             [
              0.5555555555555556,
              "#d8576b"
             ],
             [
              0.6666666666666666,
              "#ed7953"
             ],
             [
              0.7777777777777778,
              "#fb9f3a"
             ],
             [
              0.8888888888888888,
              "#fdca26"
             ],
             [
              1,
              "#f0f921"
             ]
            ],
            "type": "surface"
           }
          ],
          "table": [
           {
            "cells": {
             "fill": {
              "color": "#506784"
             },
             "line": {
              "color": "rgb(17,17,17)"
             }
            },
            "header": {
             "fill": {
              "color": "#2a3f5f"
             },
             "line": {
              "color": "rgb(17,17,17)"
             }
            },
            "type": "table"
           }
          ]
         },
         "layout": {
          "annotationdefaults": {
           "arrowcolor": "#f2f5fa",
           "arrowhead": 0,
           "arrowwidth": 1
          },
          "autotypenumbers": "strict",
          "coloraxis": {
           "colorbar": {
            "outlinewidth": 0,
            "ticks": ""
           }
          },
          "colorscale": {
           "diverging": [
            [
             0,
             "#8e0152"
            ],
            [
             0.1,
             "#c51b7d"
            ],
            [
             0.2,
             "#de77ae"
            ],
            [
             0.3,
             "#f1b6da"
            ],
            [
             0.4,
             "#fde0ef"
            ],
            [
             0.5,
             "#f7f7f7"
            ],
            [
             0.6,
             "#e6f5d0"
            ],
            [
             0.7,
             "#b8e186"
            ],
            [
             0.8,
             "#7fbc41"
            ],
            [
             0.9,
             "#4d9221"
            ],
            [
             1,
             "#276419"
            ]
           ],
           "sequential": [
            [
             0,
             "#0d0887"
            ],
            [
             0.1111111111111111,
             "#46039f"
            ],
            [
             0.2222222222222222,
             "#7201a8"
            ],
            [
             0.3333333333333333,
             "#9c179e"
            ],
            [
             0.4444444444444444,
             "#bd3786"
            ],
            [
             0.5555555555555556,
             "#d8576b"
            ],
            [
             0.6666666666666666,
             "#ed7953"
            ],
            [
             0.7777777777777778,
             "#fb9f3a"
            ],
            [
             0.8888888888888888,
             "#fdca26"
            ],
            [
             1,
             "#f0f921"
            ]
           ],
           "sequentialminus": [
            [
             0,
             "#0d0887"
            ],
            [
             0.1111111111111111,
             "#46039f"
            ],
            [
             0.2222222222222222,
             "#7201a8"
            ],
            [
             0.3333333333333333,
             "#9c179e"
            ],
            [
             0.4444444444444444,
             "#bd3786"
            ],
            [
             0.5555555555555556,
             "#d8576b"
            ],
            [
             0.6666666666666666,
             "#ed7953"
            ],
            [
             0.7777777777777778,
             "#fb9f3a"
            ],
            [
             0.8888888888888888,
             "#fdca26"
            ],
            [
             1,
             "#f0f921"
            ]
           ]
          },
          "colorway": [
           "#636efa",
           "#EF553B",
           "#00cc96",
           "#ab63fa",
           "#FFA15A",
           "#19d3f3",
           "#FF6692",
           "#B6E880",
           "#FF97FF",
           "#FECB52"
          ],
          "font": {
           "color": "#f2f5fa"
          },
          "geo": {
           "bgcolor": "rgb(17,17,17)",
           "lakecolor": "rgb(17,17,17)",
           "landcolor": "rgb(17,17,17)",
           "showlakes": true,
           "showland": true,
           "subunitcolor": "#506784"
          },
          "hoverlabel": {
           "align": "left"
          },
          "hovermode": "closest",
          "mapbox": {
           "style": "dark"
          },
          "paper_bgcolor": "rgb(17,17,17)",
          "plot_bgcolor": "rgb(17,17,17)",
          "polar": {
           "angularaxis": {
            "gridcolor": "#506784",
            "linecolor": "#506784",
            "ticks": ""
           },
           "bgcolor": "rgb(17,17,17)",
           "radialaxis": {
            "gridcolor": "#506784",
            "linecolor": "#506784",
            "ticks": ""
           }
          },
          "scene": {
           "xaxis": {
            "backgroundcolor": "rgb(17,17,17)",
            "gridcolor": "#506784",
            "gridwidth": 2,
            "linecolor": "#506784",
            "showbackground": true,
            "ticks": "",
            "zerolinecolor": "#C8D4E3"
           },
           "yaxis": {
            "backgroundcolor": "rgb(17,17,17)",
            "gridcolor": "#506784",
            "gridwidth": 2,
            "linecolor": "#506784",
            "showbackground": true,
            "ticks": "",
            "zerolinecolor": "#C8D4E3"
           },
           "zaxis": {
            "backgroundcolor": "rgb(17,17,17)",
            "gridcolor": "#506784",
            "gridwidth": 2,
            "linecolor": "#506784",
            "showbackground": true,
            "ticks": "",
            "zerolinecolor": "#C8D4E3"
           }
          },
          "shapedefaults": {
           "line": {
            "color": "#f2f5fa"
           }
          },
          "sliderdefaults": {
           "bgcolor": "#C8D4E3",
           "bordercolor": "rgb(17,17,17)",
           "borderwidth": 1,
           "tickwidth": 0
          },
          "ternary": {
           "aaxis": {
            "gridcolor": "#506784",
            "linecolor": "#506784",
            "ticks": ""
           },
           "baxis": {
            "gridcolor": "#506784",
            "linecolor": "#506784",
            "ticks": ""
           },
           "bgcolor": "rgb(17,17,17)",
           "caxis": {
            "gridcolor": "#506784",
            "linecolor": "#506784",
            "ticks": ""
           }
          },
          "title": {
           "x": 0.05
          },
          "updatemenudefaults": {
           "bgcolor": "#506784",
           "borderwidth": 0
          },
          "xaxis": {
           "automargin": true,
           "gridcolor": "#283442",
           "linecolor": "#506784",
           "ticks": "",
           "title": {
            "standoff": 15
           },
           "zerolinecolor": "#283442",
           "zerolinewidth": 2
          },
          "yaxis": {
           "automargin": true,
           "gridcolor": "#283442",
           "linecolor": "#506784",
           "ticks": "",
           "title": {
            "standoff": 15
           },
           "zerolinecolor": "#283442",
           "zerolinewidth": 2
          }
         }
        },
        "xaxis": {
         "anchor": "y",
         "domain": [
          0,
          1
         ],
         "dtick": "M1",
         "tickformat": "%b\n%Y",
         "title": {
          "text": "x"
         }
        },
        "yaxis": {
         "anchor": "x",
         "domain": [
          0,
          1
         ],
         "title": {
          "text": "y"
         }
        }
       }
      }
     },
     "metadata": {},
     "output_type": "display_data"
    }
   ],
   "source": [
    "fig = px.line(HD_5Y_smooth, x=HD_5Y.iloc[:60]['Date'], y=HD_5Y_smooth.iloc[:60]['Close'])\n",
    "fig.update_xaxes(\n",
    "    dtick=\"M1\",\n",
    "    tickformat=\"%b\\n%Y\")\n",
    "\n",
    "fig.update_layout(template=\"plotly_dark\")\n",
    "fig.show()"
   ]
  },
  {
   "cell_type": "code",
   "execution_count": 8,
   "metadata": {},
   "outputs": [
    {
     "data": {
      "text/plain": [
       "Index(['Open', 'High', 'Low', 'Close', 'Adj Close', 'Volume'], dtype='object')"
      ]
     },
     "execution_count": 8,
     "metadata": {},
     "output_type": "execute_result"
    }
   ],
   "source": [
    "HD_5Y_smooth.columns"
   ]
  },
  {
   "cell_type": "code",
   "execution_count": 9,
   "metadata": {},
   "outputs": [],
   "source": [
    "# Calculate RSI\n",
    "delta = HD_5Y_smooth['Close'].diff()\n",
    "up = delta.clip(lower=0)\n",
    "down = -1*delta.clip(upper=0)\n",
    "ema_up = up.ewm(com=13, adjust=False).mean()\n",
    "ema_down = down.ewm(com=13, adjust=False).mean()\n",
    "rs = ema_up/ema_down\n",
    "HD_5Y_smooth['RSI'] = 100 - (100/(1 + rs))"
   ]
  },
  {
   "cell_type": "code",
   "execution_count": 10,
   "metadata": {},
   "outputs": [],
   "source": [
    "# Calculate the MACD signal\n",
    "exp1 = HD_5Y_smooth['Close'].ewm(span=12).mean()\n",
    "exp2 = HD_5Y_smooth['Close'].ewm(span=26).mean()\n",
    "macd = exp1 - exp2\n",
    "macd_signal = macd.ewm(span=9).mean()\n",
    "HD_5Y_smooth['MACD'] = macd_signal - macd"
   ]
  },
  {
   "cell_type": "code",
   "execution_count": 11,
   "metadata": {},
   "outputs": [],
   "source": [
    "# Stochastic Oscillator\n",
    "high14= HD_5Y_smooth['High'].rolling(14).max()\n",
    "low14 = HD_5Y_smooth['Low'].rolling(14).min()\n",
    "HD_5Y_smooth['STOCH'] = (HD_5Y_smooth['Close'] - low14)*100/(high14 - low14)"
   ]
  },
  {
   "cell_type": "code",
   "execution_count": 12,
   "metadata": {},
   "outputs": [],
   "source": [
    "# Williams Percentage Range\n",
    "HD_5Y_smooth['%R'] = -100*(high14 - HD_5Y_smooth['Close'])/(high14 - low14)"
   ]
  },
  {
   "cell_type": "code",
   "execution_count": 13,
   "metadata": {},
   "outputs": [],
   "source": [
    "days=6\n",
    "# Price Rate of Change\n",
    "ct_n = HD_5Y_smooth['Close'].shift(days)\n",
    "HD_5Y_smooth['PROC'] = (HD_5Y_smooth['Close'] - ct_n)/ct_n"
   ]
  },
  {
   "cell_type": "code",
   "execution_count": 14,
   "metadata": {},
   "outputs": [],
   "source": [
    "HD_5Y_smooth.dropna(inplace=True)\n"
   ]
  },
  {
   "cell_type": "code",
   "execution_count": 15,
   "metadata": {},
   "outputs": [
    {
     "data": {
      "text/html": [
       "<div>\n",
       "<style scoped>\n",
       "    .dataframe tbody tr th:only-of-type {\n",
       "        vertical-align: middle;\n",
       "    }\n",
       "\n",
       "    .dataframe tbody tr th {\n",
       "        vertical-align: top;\n",
       "    }\n",
       "\n",
       "    .dataframe thead th {\n",
       "        text-align: right;\n",
       "    }\n",
       "</style>\n",
       "<table border=\"1\" class=\"dataframe\">\n",
       "  <thead>\n",
       "    <tr style=\"text-align: right;\">\n",
       "      <th></th>\n",
       "      <th>Open</th>\n",
       "      <th>High</th>\n",
       "      <th>Low</th>\n",
       "      <th>Close</th>\n",
       "      <th>Adj Close</th>\n",
       "      <th>Volume</th>\n",
       "      <th>RSI</th>\n",
       "      <th>MACD</th>\n",
       "      <th>STOCH</th>\n",
       "      <th>%R</th>\n",
       "      <th>PROC</th>\n",
       "    </tr>\n",
       "  </thead>\n",
       "  <tbody>\n",
       "    <tr>\n",
       "      <th>13</th>\n",
       "      <td>13.315484</td>\n",
       "      <td>13.317128</td>\n",
       "      <td>13.067778</td>\n",
       "      <td>13.165946</td>\n",
       "      <td>13.165946</td>\n",
       "      <td>8779.133215</td>\n",
       "      <td>64.373716</td>\n",
       "      <td>-0.001980</td>\n",
       "      <td>64.988226</td>\n",
       "      <td>-35.011774</td>\n",
       "      <td>0.002500</td>\n",
       "    </tr>\n",
       "    <tr>\n",
       "      <th>14</th>\n",
       "      <td>13.306376</td>\n",
       "      <td>13.307053</td>\n",
       "      <td>13.145556</td>\n",
       "      <td>13.185978</td>\n",
       "      <td>13.185978</td>\n",
       "      <td>5104.342876</td>\n",
       "      <td>66.799156</td>\n",
       "      <td>-0.003998</td>\n",
       "      <td>69.627357</td>\n",
       "      <td>-30.372643</td>\n",
       "      <td>-0.001206</td>\n",
       "    </tr>\n",
       "    <tr>\n",
       "      <th>15</th>\n",
       "      <td>13.214390</td>\n",
       "      <td>13.302904</td>\n",
       "      <td>13.148170</td>\n",
       "      <td>13.253050</td>\n",
       "      <td>13.253050</td>\n",
       "      <td>2503.551173</td>\n",
       "      <td>73.342991</td>\n",
       "      <td>-0.008129</td>\n",
       "      <td>85.160277</td>\n",
       "      <td>-14.839723</td>\n",
       "      <td>0.006202</td>\n",
       "    </tr>\n",
       "    <tr>\n",
       "      <th>16</th>\n",
       "      <td>13.235337</td>\n",
       "      <td>13.330608</td>\n",
       "      <td>13.149246</td>\n",
       "      <td>13.192432</td>\n",
       "      <td>13.192432</td>\n",
       "      <td>2830.285869</td>\n",
       "      <td>61.537955</td>\n",
       "      <td>-0.007080</td>\n",
       "      <td>68.969212</td>\n",
       "      <td>-31.030788</td>\n",
       "      <td>0.007058</td>\n",
       "    </tr>\n",
       "    <tr>\n",
       "      <th>17</th>\n",
       "      <td>13.273374</td>\n",
       "      <td>13.312603</td>\n",
       "      <td>13.120278</td>\n",
       "      <td>13.167472</td>\n",
       "      <td>13.167472</td>\n",
       "      <td>3561.882501</td>\n",
       "      <td>57.438330</td>\n",
       "      <td>-0.004666</td>\n",
       "      <td>63.363784</td>\n",
       "      <td>-36.636216</td>\n",
       "      <td>0.007413</td>\n",
       "    </tr>\n",
       "    <tr>\n",
       "      <th>...</th>\n",
       "      <td>...</td>\n",
       "      <td>...</td>\n",
       "      <td>...</td>\n",
       "      <td>...</td>\n",
       "      <td>...</td>\n",
       "      <td>...</td>\n",
       "      <td>...</td>\n",
       "      <td>...</td>\n",
       "      <td>...</td>\n",
       "      <td>...</td>\n",
       "      <td>...</td>\n",
       "    </tr>\n",
       "    <tr>\n",
       "      <th>1266</th>\n",
       "      <td>12.976237</td>\n",
       "      <td>13.151969</td>\n",
       "      <td>12.968241</td>\n",
       "      <td>13.143974</td>\n",
       "      <td>0.030000</td>\n",
       "      <td>1094.331792</td>\n",
       "      <td>57.807450</td>\n",
       "      <td>0.003696</td>\n",
       "      <td>53.896063</td>\n",
       "      <td>-46.103937</td>\n",
       "      <td>0.007272</td>\n",
       "    </tr>\n",
       "    <tr>\n",
       "      <th>1267</th>\n",
       "      <td>13.060803</td>\n",
       "      <td>13.139046</td>\n",
       "      <td>12.986923</td>\n",
       "      <td>13.059283</td>\n",
       "      <td>0.030000</td>\n",
       "      <td>2145.901326</td>\n",
       "      <td>50.373708</td>\n",
       "      <td>0.010005</td>\n",
       "      <td>27.922096</td>\n",
       "      <td>-72.077904</td>\n",
       "      <td>-0.002407</td>\n",
       "    </tr>\n",
       "    <tr>\n",
       "      <th>1268</th>\n",
       "      <td>13.095625</td>\n",
       "      <td>13.127843</td>\n",
       "      <td>13.065203</td>\n",
       "      <td>13.094999</td>\n",
       "      <td>0.030000</td>\n",
       "      <td>928.312311</td>\n",
       "      <td>53.112082</td>\n",
       "      <td>0.011691</td>\n",
       "      <td>38.875820</td>\n",
       "      <td>-61.124180</td>\n",
       "      <td>-0.000990</td>\n",
       "    </tr>\n",
       "    <tr>\n",
       "      <th>1269</th>\n",
       "      <td>13.098198</td>\n",
       "      <td>13.123229</td>\n",
       "      <td>13.085672</td>\n",
       "      <td>13.109705</td>\n",
       "      <td>0.030000</td>\n",
       "      <td>551.658010</td>\n",
       "      <td>54.231977</td>\n",
       "      <td>0.011705</td>\n",
       "      <td>43.386177</td>\n",
       "      <td>-56.613823</td>\n",
       "      <td>0.000041</td>\n",
       "    </tr>\n",
       "    <tr>\n",
       "      <th>1270</th>\n",
       "      <td>13.111023</td>\n",
       "      <td>13.121330</td>\n",
       "      <td>13.099983</td>\n",
       "      <td>13.115761</td>\n",
       "      <td>0.030000</td>\n",
       "      <td>835.388592</td>\n",
       "      <td>54.711640</td>\n",
       "      <td>0.011196</td>\n",
       "      <td>45.243383</td>\n",
       "      <td>-54.756617</td>\n",
       "      <td>-0.005780</td>\n",
       "    </tr>\n",
       "  </tbody>\n",
       "</table>\n",
       "<p>1258 rows × 11 columns</p>\n",
       "</div>"
      ],
      "text/plain": [
       "           Open       High        Low      Close  Adj Close       Volume  \\\n",
       "13    13.315484  13.317128  13.067778  13.165946  13.165946  8779.133215   \n",
       "14    13.306376  13.307053  13.145556  13.185978  13.185978  5104.342876   \n",
       "15    13.214390  13.302904  13.148170  13.253050  13.253050  2503.551173   \n",
       "16    13.235337  13.330608  13.149246  13.192432  13.192432  2830.285869   \n",
       "17    13.273374  13.312603  13.120278  13.167472  13.167472  3561.882501   \n",
       "...         ...        ...        ...        ...        ...          ...   \n",
       "1266  12.976237  13.151969  12.968241  13.143974   0.030000  1094.331792   \n",
       "1267  13.060803  13.139046  12.986923  13.059283   0.030000  2145.901326   \n",
       "1268  13.095625  13.127843  13.065203  13.094999   0.030000   928.312311   \n",
       "1269  13.098198  13.123229  13.085672  13.109705   0.030000   551.658010   \n",
       "1270  13.111023  13.121330  13.099983  13.115761   0.030000   835.388592   \n",
       "\n",
       "            RSI      MACD      STOCH         %R      PROC  \n",
       "13    64.373716 -0.001980  64.988226 -35.011774  0.002500  \n",
       "14    66.799156 -0.003998  69.627357 -30.372643 -0.001206  \n",
       "15    73.342991 -0.008129  85.160277 -14.839723  0.006202  \n",
       "16    61.537955 -0.007080  68.969212 -31.030788  0.007058  \n",
       "17    57.438330 -0.004666  63.363784 -36.636216  0.007413  \n",
       "...         ...       ...        ...        ...       ...  \n",
       "1266  57.807450  0.003696  53.896063 -46.103937  0.007272  \n",
       "1267  50.373708  0.010005  27.922096 -72.077904 -0.002407  \n",
       "1268  53.112082  0.011691  38.875820 -61.124180 -0.000990  \n",
       "1269  54.231977  0.011705  43.386177 -56.613823  0.000041  \n",
       "1270  54.711640  0.011196  45.243383 -54.756617 -0.005780  \n",
       "\n",
       "[1258 rows x 11 columns]"
      ]
     },
     "execution_count": 15,
     "metadata": {},
     "output_type": "execute_result"
    }
   ],
   "source": [
    "HD_5Y_smooth"
   ]
  },
  {
   "cell_type": "code",
   "execution_count": 16,
   "metadata": {},
   "outputs": [],
   "source": [
    "# Also calculate moving averages for features\n",
    "HD_5Y_smooth['ema50'] = HD_5Y_smooth['Close'] / HD_5Y_smooth['Close'].ewm(50).mean()\n",
    "HD_5Y_smooth['ema21'] = HD_5Y_smooth['Close'] / HD_5Y_smooth['Close'].ewm(21).mean()\n",
    "HD_5Y_smooth['ema15'] = HD_5Y_smooth['Close'] / HD_5Y_smooth['Close'].ewm(14).mean()\n",
    "HD_5Y_smooth['ema5'] = HD_5Y_smooth['Close'] / HD_5Y_smooth['Close'].ewm(5).mean()"
   ]
  },
  {
   "cell_type": "code",
   "execution_count": 17,
   "metadata": {},
   "outputs": [
    {
     "data": {
      "text/html": [
       "<div>\n",
       "<style scoped>\n",
       "    .dataframe tbody tr th:only-of-type {\n",
       "        vertical-align: middle;\n",
       "    }\n",
       "\n",
       "    .dataframe tbody tr th {\n",
       "        vertical-align: top;\n",
       "    }\n",
       "\n",
       "    .dataframe thead th {\n",
       "        text-align: right;\n",
       "    }\n",
       "</style>\n",
       "<table border=\"1\" class=\"dataframe\">\n",
       "  <thead>\n",
       "    <tr style=\"text-align: right;\">\n",
       "      <th></th>\n",
       "      <th>Open</th>\n",
       "      <th>High</th>\n",
       "      <th>Low</th>\n",
       "      <th>Close</th>\n",
       "      <th>Adj Close</th>\n",
       "      <th>Volume</th>\n",
       "      <th>RSI</th>\n",
       "      <th>MACD</th>\n",
       "      <th>STOCH</th>\n",
       "      <th>%R</th>\n",
       "      <th>PROC</th>\n",
       "      <th>ema50</th>\n",
       "      <th>ema21</th>\n",
       "      <th>ema15</th>\n",
       "      <th>ema5</th>\n",
       "    </tr>\n",
       "  </thead>\n",
       "  <tbody>\n",
       "    <tr>\n",
       "      <th>13</th>\n",
       "      <td>13.315484</td>\n",
       "      <td>13.317128</td>\n",
       "      <td>13.067778</td>\n",
       "      <td>13.165946</td>\n",
       "      <td>13.165946</td>\n",
       "      <td>8779.133215</td>\n",
       "      <td>64.373716</td>\n",
       "      <td>-0.001980</td>\n",
       "      <td>64.988226</td>\n",
       "      <td>-35.011774</td>\n",
       "      <td>0.002500</td>\n",
       "      <td>1.000000</td>\n",
       "      <td>1.000000</td>\n",
       "      <td>1.000000</td>\n",
       "      <td>1.000000</td>\n",
       "    </tr>\n",
       "    <tr>\n",
       "      <th>14</th>\n",
       "      <td>13.306376</td>\n",
       "      <td>13.307053</td>\n",
       "      <td>13.145556</td>\n",
       "      <td>13.185978</td>\n",
       "      <td>13.185978</td>\n",
       "      <td>5104.342876</td>\n",
       "      <td>66.799156</td>\n",
       "      <td>-0.003998</td>\n",
       "      <td>69.627357</td>\n",
       "      <td>-30.372643</td>\n",
       "      <td>-0.001206</td>\n",
       "      <td>1.000753</td>\n",
       "      <td>1.000742</td>\n",
       "      <td>1.000734</td>\n",
       "      <td>1.000691</td>\n",
       "    </tr>\n",
       "    <tr>\n",
       "      <th>15</th>\n",
       "      <td>13.214390</td>\n",
       "      <td>13.302904</td>\n",
       "      <td>13.148170</td>\n",
       "      <td>13.253050</td>\n",
       "      <td>13.253050</td>\n",
       "      <td>2503.551173</td>\n",
       "      <td>73.342991</td>\n",
       "      <td>-0.008129</td>\n",
       "      <td>85.160277</td>\n",
       "      <td>-14.839723</td>\n",
       "      <td>0.006202</td>\n",
       "      <td>1.003849</td>\n",
       "      <td>1.003790</td>\n",
       "      <td>1.003740</td>\n",
       "      <td>1.003486</td>\n",
       "    </tr>\n",
       "    <tr>\n",
       "      <th>16</th>\n",
       "      <td>13.235337</td>\n",
       "      <td>13.330608</td>\n",
       "      <td>13.149246</td>\n",
       "      <td>13.192432</td>\n",
       "      <td>13.192432</td>\n",
       "      <td>2830.285869</td>\n",
       "      <td>61.537955</td>\n",
       "      <td>-0.007080</td>\n",
       "      <td>68.969212</td>\n",
       "      <td>-31.030788</td>\n",
       "      <td>0.007058</td>\n",
       "      <td>0.999449</td>\n",
       "      <td>0.999413</td>\n",
       "      <td>0.999384</td>\n",
       "      <td>0.999251</td>\n",
       "    </tr>\n",
       "    <tr>\n",
       "      <th>17</th>\n",
       "      <td>13.273374</td>\n",
       "      <td>13.312603</td>\n",
       "      <td>13.120278</td>\n",
       "      <td>13.167472</td>\n",
       "      <td>13.167472</td>\n",
       "      <td>3561.882501</td>\n",
       "      <td>57.438330</td>\n",
       "      <td>-0.004666</td>\n",
       "      <td>63.363784</td>\n",
       "      <td>-36.636216</td>\n",
       "      <td>0.007413</td>\n",
       "      <td>0.998065</td>\n",
       "      <td>0.998064</td>\n",
       "      <td>0.998065</td>\n",
       "      <td>0.998095</td>\n",
       "    </tr>\n",
       "    <tr>\n",
       "      <th>...</th>\n",
       "      <td>...</td>\n",
       "      <td>...</td>\n",
       "      <td>...</td>\n",
       "      <td>...</td>\n",
       "      <td>...</td>\n",
       "      <td>...</td>\n",
       "      <td>...</td>\n",
       "      <td>...</td>\n",
       "      <td>...</td>\n",
       "      <td>...</td>\n",
       "      <td>...</td>\n",
       "      <td>...</td>\n",
       "      <td>...</td>\n",
       "      <td>...</td>\n",
       "      <td>...</td>\n",
       "    </tr>\n",
       "    <tr>\n",
       "      <th>1266</th>\n",
       "      <td>12.976237</td>\n",
       "      <td>13.151969</td>\n",
       "      <td>12.968241</td>\n",
       "      <td>13.143974</td>\n",
       "      <td>0.030000</td>\n",
       "      <td>1094.331792</td>\n",
       "      <td>57.807450</td>\n",
       "      <td>0.003696</td>\n",
       "      <td>53.896063</td>\n",
       "      <td>-46.103937</td>\n",
       "      <td>0.007272</td>\n",
       "      <td>1.025525</td>\n",
       "      <td>1.012107</td>\n",
       "      <td>1.007537</td>\n",
       "      <td>1.001835</td>\n",
       "    </tr>\n",
       "    <tr>\n",
       "      <th>1267</th>\n",
       "      <td>13.060803</td>\n",
       "      <td>13.139046</td>\n",
       "      <td>12.986923</td>\n",
       "      <td>13.059283</td>\n",
       "      <td>0.030000</td>\n",
       "      <td>2145.901326</td>\n",
       "      <td>50.373708</td>\n",
       "      <td>0.010005</td>\n",
       "      <td>27.922096</td>\n",
       "      <td>-72.077904</td>\n",
       "      <td>-0.002407</td>\n",
       "      <td>1.018540</td>\n",
       "      <td>1.005330</td>\n",
       "      <td>1.000975</td>\n",
       "      <td>0.996147</td>\n",
       "    </tr>\n",
       "    <tr>\n",
       "      <th>1268</th>\n",
       "      <td>13.095625</td>\n",
       "      <td>13.127843</td>\n",
       "      <td>13.065203</td>\n",
       "      <td>13.094999</td>\n",
       "      <td>0.030000</td>\n",
       "      <td>928.312311</td>\n",
       "      <td>53.112082</td>\n",
       "      <td>0.011691</td>\n",
       "      <td>38.875820</td>\n",
       "      <td>-61.124180</td>\n",
       "      <td>-0.000990</td>\n",
       "      <td>1.020898</td>\n",
       "      <td>1.007710</td>\n",
       "      <td>1.003464</td>\n",
       "      <td>0.999059</td>\n",
       "    </tr>\n",
       "    <tr>\n",
       "      <th>1269</th>\n",
       "      <td>13.098198</td>\n",
       "      <td>13.123229</td>\n",
       "      <td>13.085672</td>\n",
       "      <td>13.109705</td>\n",
       "      <td>0.030000</td>\n",
       "      <td>551.658010</td>\n",
       "      <td>54.231977</td>\n",
       "      <td>0.011705</td>\n",
       "      <td>43.386177</td>\n",
       "      <td>-56.613823</td>\n",
       "      <td>0.000041</td>\n",
       "      <td>1.021603</td>\n",
       "      <td>1.008436</td>\n",
       "      <td>1.004284</td>\n",
       "      <td>1.000151</td>\n",
       "    </tr>\n",
       "    <tr>\n",
       "      <th>1270</th>\n",
       "      <td>13.111023</td>\n",
       "      <td>13.121330</td>\n",
       "      <td>13.099983</td>\n",
       "      <td>13.115761</td>\n",
       "      <td>0.030000</td>\n",
       "      <td>835.388592</td>\n",
       "      <td>54.711640</td>\n",
       "      <td>0.011196</td>\n",
       "      <td>45.243383</td>\n",
       "      <td>-54.756617</td>\n",
       "      <td>-0.005780</td>\n",
       "      <td>1.021633</td>\n",
       "      <td>1.008494</td>\n",
       "      <td>1.004430</td>\n",
       "      <td>1.000511</td>\n",
       "    </tr>\n",
       "  </tbody>\n",
       "</table>\n",
       "<p>1258 rows × 15 columns</p>\n",
       "</div>"
      ],
      "text/plain": [
       "           Open       High        Low      Close  Adj Close       Volume  \\\n",
       "13    13.315484  13.317128  13.067778  13.165946  13.165946  8779.133215   \n",
       "14    13.306376  13.307053  13.145556  13.185978  13.185978  5104.342876   \n",
       "15    13.214390  13.302904  13.148170  13.253050  13.253050  2503.551173   \n",
       "16    13.235337  13.330608  13.149246  13.192432  13.192432  2830.285869   \n",
       "17    13.273374  13.312603  13.120278  13.167472  13.167472  3561.882501   \n",
       "...         ...        ...        ...        ...        ...          ...   \n",
       "1266  12.976237  13.151969  12.968241  13.143974   0.030000  1094.331792   \n",
       "1267  13.060803  13.139046  12.986923  13.059283   0.030000  2145.901326   \n",
       "1268  13.095625  13.127843  13.065203  13.094999   0.030000   928.312311   \n",
       "1269  13.098198  13.123229  13.085672  13.109705   0.030000   551.658010   \n",
       "1270  13.111023  13.121330  13.099983  13.115761   0.030000   835.388592   \n",
       "\n",
       "            RSI      MACD      STOCH         %R      PROC     ema50     ema21  \\\n",
       "13    64.373716 -0.001980  64.988226 -35.011774  0.002500  1.000000  1.000000   \n",
       "14    66.799156 -0.003998  69.627357 -30.372643 -0.001206  1.000753  1.000742   \n",
       "15    73.342991 -0.008129  85.160277 -14.839723  0.006202  1.003849  1.003790   \n",
       "16    61.537955 -0.007080  68.969212 -31.030788  0.007058  0.999449  0.999413   \n",
       "17    57.438330 -0.004666  63.363784 -36.636216  0.007413  0.998065  0.998064   \n",
       "...         ...       ...        ...        ...       ...       ...       ...   \n",
       "1266  57.807450  0.003696  53.896063 -46.103937  0.007272  1.025525  1.012107   \n",
       "1267  50.373708  0.010005  27.922096 -72.077904 -0.002407  1.018540  1.005330   \n",
       "1268  53.112082  0.011691  38.875820 -61.124180 -0.000990  1.020898  1.007710   \n",
       "1269  54.231977  0.011705  43.386177 -56.613823  0.000041  1.021603  1.008436   \n",
       "1270  54.711640  0.011196  45.243383 -54.756617 -0.005780  1.021633  1.008494   \n",
       "\n",
       "         ema15      ema5  \n",
       "13    1.000000  1.000000  \n",
       "14    1.000734  1.000691  \n",
       "15    1.003740  1.003486  \n",
       "16    0.999384  0.999251  \n",
       "17    0.998065  0.998095  \n",
       "...        ...       ...  \n",
       "1266  1.007537  1.001835  \n",
       "1267  1.000975  0.996147  \n",
       "1268  1.003464  0.999059  \n",
       "1269  1.004284  1.000151  \n",
       "1270  1.004430  1.000511  \n",
       "\n",
       "[1258 rows x 15 columns]"
      ]
     },
     "execution_count": 17,
     "metadata": {},
     "output_type": "execute_result"
    }
   ],
   "source": [
    "HD_5Y_smooth"
   ]
  },
  {
   "cell_type": "code",
   "execution_count": 18,
   "metadata": {},
   "outputs": [
    {
     "data": {
      "text/plain": [
       "Index(['Open', 'High', 'Low', 'Close', 'Adj Close', 'Volume', 'RSI', 'MACD',\n",
       "       'STOCH', '%R', 'PROC', 'ema50', 'ema21', 'ema15', 'ema5'],\n",
       "      dtype='object')"
      ]
     },
     "execution_count": 18,
     "metadata": {},
     "output_type": "execute_result"
    }
   ],
   "source": [
    "HD_5Y_smooth.columns"
   ]
  },
  {
   "cell_type": "markdown",
   "metadata": {},
   "source": [
    "Instead of using the actual volume value (which changes over time), we normalize it with a moving volume average"
   ]
  },
  {
   "cell_type": "code",
   "execution_count": 19,
   "metadata": {},
   "outputs": [],
   "source": [
    "HD_5Y_smooth['normVol'] = HD_5Y_smooth['Volume'] / HD_5Y_smooth['Volume'].ewm(5).mean()"
   ]
  },
  {
   "cell_type": "markdown",
   "metadata": {},
   "source": [
    "# Applying Machine Learning model "
   ]
  },
  {
   "cell_type": "code",
   "execution_count": 20,
   "metadata": {},
   "outputs": [],
   "source": [
    "from sklearn.model_selection import train_test_split\n",
    "from sklearn.metrics import classification_report, accuracy_score\n",
    "from sklearn.ensemble import RandomForestClassifier\n",
    "from sklearn.preprocessing import MinMaxScaler"
   ]
  },
  {
   "cell_type": "markdown",
   "metadata": {},
   "source": [
    "### RandomForestClassifier: Predict Stock Market Direction"
   ]
  },
  {
   "cell_type": "code",
   "execution_count": 21,
   "metadata": {},
   "outputs": [],
   "source": [
    "# Set class labels to classify\n",
    "HD_5Y_smooth['Return'] = HD_5Y_smooth['Close'].pct_change(1).shift(-1)\n",
    "HD_5Y_smooth['class'] = np.where(HD_5Y_smooth['Return'] > 0, 1, 0)\n",
    "HD_5Y_smooth.dropna(inplace=True)\n",
    "# Data to predict\n",
    "predictors = ['Open', 'High', 'Low', 'Close', 'Adj Close', 'Volume', 'RSI', 'MACD',\n",
    "       'STOCH', '%R', 'PROC', 'ema50', 'ema21', 'ema15', 'ema5', 'normVol']\n",
    "X = HD_5Y_smooth[predictors]\n",
    "y = HD_5Y_smooth['class']"
   ]
  },
  {
   "cell_type": "code",
   "execution_count": 22,
   "metadata": {},
   "outputs": [
    {
     "data": {
      "text/plain": [
       "Index(['Open', 'High', 'Low', 'Close', 'Adj Close', 'Volume', 'RSI', 'MACD',\n",
       "       'STOCH', '%R', 'PROC', 'ema50', 'ema21', 'ema15', 'ema5', 'normVol',\n",
       "       'Return', 'class'],\n",
       "      dtype='object')"
      ]
     },
     "execution_count": 22,
     "metadata": {},
     "output_type": "execute_result"
    }
   ],
   "source": [
    "HD_5Y_smooth.columns"
   ]
  },
  {
   "cell_type": "code",
   "execution_count": 23,
   "metadata": {},
   "outputs": [
    {
     "name": "stdout",
     "output_type": "stream",
     "text": [
      "Model accuracy 0.6613756613756614\n",
      "              precision    recall  f1-score   support\n",
      "\n",
      "           0       0.64      0.71      0.67       185\n",
      "           1       0.69      0.61      0.65       193\n",
      "\n",
      "    accuracy                           0.66       378\n",
      "   macro avg       0.66      0.66      0.66       378\n",
      "weighted avg       0.66      0.66      0.66       378\n",
      "\n"
     ]
    }
   ],
   "source": [
    "# Split data into train and test\n",
    "X_train, X_test, y_train, y_test = train_test_split(X, y, test_size=0.30)\n",
    "\n",
    "# Train the model\n",
    "rfc = RandomForestClassifier(random_state=0)\n",
    "rfc = rfc.fit(X_train, y_train)\n",
    "\n",
    "# Test the model by doing some predictions\n",
    "y_pred = rfc.predict(X_test)\n",
    "\n",
    "# See how accurate the predictions are\n",
    "report = classification_report(y_test, y_pred)\n",
    "print('Model accuracy', accuracy_score(y_test, y_pred, normalize=True))\n",
    "print(report)"
   ]
  },
  {
   "cell_type": "markdown",
   "metadata": {},
   "source": [
    "- Dimentionnality reduction and Prediction"
   ]
  },
  {
   "cell_type": "markdown",
   "metadata": {},
   "source": [
    "Using components such that 95% of variance is retained"
   ]
  },
  {
   "cell_type": "code",
   "execution_count": 24,
   "metadata": {},
   "outputs": [
    {
     "data": {
      "text/plain": [
       "(1257, 1)"
      ]
     },
     "execution_count": 24,
     "metadata": {},
     "output_type": "execute_result"
    }
   ],
   "source": [
    "from sklearn.decomposition import PCA\n",
    "\n",
    "pca = PCA(0.95)\n",
    "X_pca = pca.fit_transform(X)\n",
    "X_pca.shape"
   ]
  },
  {
   "cell_type": "code",
   "execution_count": 25,
   "metadata": {},
   "outputs": [
    {
     "data": {
      "text/plain": [
       "array([0.99959599])"
      ]
     },
     "execution_count": 25,
     "metadata": {},
     "output_type": "execute_result"
    }
   ],
   "source": [
    "pca.explained_variance_ratio_"
   ]
  },
  {
   "cell_type": "code",
   "execution_count": 26,
   "metadata": {},
   "outputs": [
    {
     "data": {
      "text/plain": [
       "1"
      ]
     },
     "execution_count": 26,
     "metadata": {},
     "output_type": "execute_result"
    }
   ],
   "source": [
    "pca.n_components_"
   ]
  },
  {
   "cell_type": "code",
   "execution_count": 27,
   "metadata": {},
   "outputs": [
    {
     "data": {
      "text/plain": [
       "array([[ 6815.68217167],\n",
       "       [ 3140.88743509],\n",
       "       [  540.07337813],\n",
       "       ...,\n",
       "       [  182.50488054],\n",
       "       [-1035.1001348 ],\n",
       "       [-1411.76110202]])"
      ]
     },
     "execution_count": 27,
     "metadata": {},
     "output_type": "execute_result"
    }
   ],
   "source": [
    "X_pca"
   ]
  },
  {
   "cell_type": "code",
   "execution_count": 28,
   "metadata": {},
   "outputs": [
    {
     "data": {
      "text/html": [
       "<div>\n",
       "<style scoped>\n",
       "    .dataframe tbody tr th:only-of-type {\n",
       "        vertical-align: middle;\n",
       "    }\n",
       "\n",
       "    .dataframe tbody tr th {\n",
       "        vertical-align: top;\n",
       "    }\n",
       "\n",
       "    .dataframe thead th {\n",
       "        text-align: right;\n",
       "    }\n",
       "</style>\n",
       "<table border=\"1\" class=\"dataframe\">\n",
       "  <thead>\n",
       "    <tr style=\"text-align: right;\">\n",
       "      <th></th>\n",
       "      <th>0</th>\n",
       "    </tr>\n",
       "  </thead>\n",
       "  <tbody>\n",
       "    <tr>\n",
       "      <th>0</th>\n",
       "      <td>6815.682172</td>\n",
       "    </tr>\n",
       "    <tr>\n",
       "      <th>1</th>\n",
       "      <td>3140.887435</td>\n",
       "    </tr>\n",
       "    <tr>\n",
       "      <th>2</th>\n",
       "      <td>540.073378</td>\n",
       "    </tr>\n",
       "    <tr>\n",
       "      <th>3</th>\n",
       "      <td>866.834598</td>\n",
       "    </tr>\n",
       "    <tr>\n",
       "      <th>4</th>\n",
       "      <td>1598.439920</td>\n",
       "    </tr>\n",
       "    <tr>\n",
       "      <th>...</th>\n",
       "      <td>...</td>\n",
       "    </tr>\n",
       "    <tr>\n",
       "      <th>1252</th>\n",
       "      <td>-1834.340429</td>\n",
       "    </tr>\n",
       "    <tr>\n",
       "      <th>1253</th>\n",
       "      <td>-869.104044</td>\n",
       "    </tr>\n",
       "    <tr>\n",
       "      <th>1254</th>\n",
       "      <td>182.504881</td>\n",
       "    </tr>\n",
       "    <tr>\n",
       "      <th>1255</th>\n",
       "      <td>-1035.100135</td>\n",
       "    </tr>\n",
       "    <tr>\n",
       "      <th>1256</th>\n",
       "      <td>-1411.761102</td>\n",
       "    </tr>\n",
       "  </tbody>\n",
       "</table>\n",
       "<p>1257 rows × 1 columns</p>\n",
       "</div>"
      ],
      "text/plain": [
       "                0\n",
       "0     6815.682172\n",
       "1     3140.887435\n",
       "2      540.073378\n",
       "3      866.834598\n",
       "4     1598.439920\n",
       "...           ...\n",
       "1252 -1834.340429\n",
       "1253  -869.104044\n",
       "1254   182.504881\n",
       "1255 -1035.100135\n",
       "1256 -1411.761102\n",
       "\n",
       "[1257 rows x 1 columns]"
      ]
     },
     "execution_count": 28,
     "metadata": {},
     "output_type": "execute_result"
    }
   ],
   "source": [
    "pd.DataFrame(X_pca)"
   ]
  },
  {
   "cell_type": "code",
   "execution_count": 29,
   "metadata": {},
   "outputs": [],
   "source": [
    "X_train_pca, X_test_pca, y_train, y_test = train_test_split(X_pca, y, test_size=0.2, random_state=30)"
   ]
  },
  {
   "cell_type": "code",
   "execution_count": 30,
   "metadata": {},
   "outputs": [
    {
     "name": "stdout",
     "output_type": "stream",
     "text": [
      "Model accuracy 0.5277777777777778\n",
      "              precision    recall  f1-score   support\n",
      "\n",
      "           0       0.56      0.54      0.55       134\n",
      "           1       0.50      0.52      0.51       118\n",
      "\n",
      "    accuracy                           0.53       252\n",
      "   macro avg       0.53      0.53      0.53       252\n",
      "weighted avg       0.53      0.53      0.53       252\n",
      "\n"
     ]
    }
   ],
   "source": [
    "# Train the model\n",
    "rfc = RandomForestClassifier(random_state=0)\n",
    "rfc = rfc.fit(X_train_pca, y_train)\n",
    "\n",
    "# Test the model by doing some predictions\n",
    "y_pred = rfc.predict(X_test_pca)\n",
    "\n",
    "# See how accurate the predictions are\n",
    "report = classification_report(y_test, y_pred)\n",
    "print('Model accuracy', accuracy_score(y_test, y_pred, normalize=True))\n",
    "print(report)"
   ]
  },
  {
   "cell_type": "markdown",
   "metadata": {},
   "source": [
    " Selecting only two components"
   ]
  },
  {
   "cell_type": "code",
   "execution_count": 31,
   "metadata": {},
   "outputs": [
    {
     "data": {
      "text/plain": [
       "(1257, 2)"
      ]
     },
     "execution_count": 31,
     "metadata": {},
     "output_type": "execute_result"
    }
   ],
   "source": [
    "pca = PCA(n_components=2)\n",
    "X_pca = pca.fit_transform(X)\n",
    "X_pca.shape"
   ]
  },
  {
   "cell_type": "code",
   "execution_count": 32,
   "metadata": {},
   "outputs": [
    {
     "data": {
      "text/plain": [
       "array([[ 6815.68217167,   -32.80300819],\n",
       "       [ 3140.88743509,   -35.85776767],\n",
       "       [  540.07337813,   -55.98945022],\n",
       "       ...,\n",
       "       [  182.50488054,    28.47652198],\n",
       "       [-1035.1001348 ,    14.18940646],\n",
       "       [-1411.76110202,     8.17555469]])"
      ]
     },
     "execution_count": 32,
     "metadata": {},
     "output_type": "execute_result"
    }
   ],
   "source": [
    "X_pca"
   ]
  },
  {
   "cell_type": "code",
   "execution_count": 33,
   "metadata": {},
   "outputs": [
    {
     "data": {
      "text/html": [
       "<div>\n",
       "<style scoped>\n",
       "    .dataframe tbody tr th:only-of-type {\n",
       "        vertical-align: middle;\n",
       "    }\n",
       "\n",
       "    .dataframe tbody tr th {\n",
       "        vertical-align: top;\n",
       "    }\n",
       "\n",
       "    .dataframe thead th {\n",
       "        text-align: right;\n",
       "    }\n",
       "</style>\n",
       "<table border=\"1\" class=\"dataframe\">\n",
       "  <thead>\n",
       "    <tr style=\"text-align: right;\">\n",
       "      <th></th>\n",
       "      <th>principal component 1</th>\n",
       "      <th>principal component 2</th>\n",
       "    </tr>\n",
       "  </thead>\n",
       "  <tbody>\n",
       "    <tr>\n",
       "      <th>0</th>\n",
       "      <td>6815.682172</td>\n",
       "      <td>-32.803008</td>\n",
       "    </tr>\n",
       "    <tr>\n",
       "      <th>1</th>\n",
       "      <td>3140.887435</td>\n",
       "      <td>-35.857768</td>\n",
       "    </tr>\n",
       "    <tr>\n",
       "      <th>2</th>\n",
       "      <td>540.073378</td>\n",
       "      <td>-55.989450</td>\n",
       "    </tr>\n",
       "    <tr>\n",
       "      <th>3</th>\n",
       "      <td>866.834598</td>\n",
       "      <td>-30.936420</td>\n",
       "    </tr>\n",
       "    <tr>\n",
       "      <th>4</th>\n",
       "      <td>1598.439920</td>\n",
       "      <td>-22.920795</td>\n",
       "    </tr>\n",
       "    <tr>\n",
       "      <th>...</th>\n",
       "      <td>...</td>\n",
       "      <td>...</td>\n",
       "    </tr>\n",
       "    <tr>\n",
       "      <th>1252</th>\n",
       "      <td>-1834.340429</td>\n",
       "      <td>-3.654030</td>\n",
       "    </tr>\n",
       "    <tr>\n",
       "      <th>1253</th>\n",
       "      <td>-869.104044</td>\n",
       "      <td>-7.649563</td>\n",
       "    </tr>\n",
       "    <tr>\n",
       "      <th>1254</th>\n",
       "      <td>182.504881</td>\n",
       "      <td>28.476522</td>\n",
       "    </tr>\n",
       "    <tr>\n",
       "      <th>1255</th>\n",
       "      <td>-1035.100135</td>\n",
       "      <td>14.189406</td>\n",
       "    </tr>\n",
       "    <tr>\n",
       "      <th>1256</th>\n",
       "      <td>-1411.761102</td>\n",
       "      <td>8.175555</td>\n",
       "    </tr>\n",
       "  </tbody>\n",
       "</table>\n",
       "<p>1257 rows × 2 columns</p>\n",
       "</div>"
      ],
      "text/plain": [
       "      principal component 1  principal component 2\n",
       "0               6815.682172             -32.803008\n",
       "1               3140.887435             -35.857768\n",
       "2                540.073378             -55.989450\n",
       "3                866.834598             -30.936420\n",
       "4               1598.439920             -22.920795\n",
       "...                     ...                    ...\n",
       "1252           -1834.340429              -3.654030\n",
       "1253            -869.104044              -7.649563\n",
       "1254             182.504881              28.476522\n",
       "1255           -1035.100135              14.189406\n",
       "1256           -1411.761102               8.175555\n",
       "\n",
       "[1257 rows x 2 columns]"
      ]
     },
     "execution_count": 33,
     "metadata": {},
     "output_type": "execute_result"
    }
   ],
   "source": [
    "pd.DataFrame(X_pca, columns=['principal component 1', 'principal component 2'])"
   ]
  },
  {
   "cell_type": "code",
   "execution_count": 37,
   "metadata": {},
   "outputs": [
    {
     "data": {
      "text/plain": [
       "array([9.99595992e-01, 3.77661019e-04])"
      ]
     },
     "execution_count": 37,
     "metadata": {},
     "output_type": "execute_result"
    }
   ],
   "source": [
    "pca.explained_variance_ratio_"
   ]
  },
  {
   "cell_type": "code",
   "execution_count": 38,
   "metadata": {},
   "outputs": [
    {
     "name": "stdout",
     "output_type": "stream",
     "text": [
      "Model accuracy 0.5198412698412699\n",
      "              precision    recall  f1-score   support\n",
      "\n",
      "           0       0.55      0.54      0.54       134\n",
      "           1       0.49      0.50      0.49       118\n",
      "\n",
      "    accuracy                           0.52       252\n",
      "   macro avg       0.52      0.52      0.52       252\n",
      "weighted avg       0.52      0.52      0.52       252\n",
      "\n"
     ]
    }
   ],
   "source": [
    "X_train_pca, X_test_pca, y_train, y_test = train_test_split(X_pca, y, test_size=0.2, random_state=30)\n",
    "# Train the model\n",
    "rfc = RandomForestClassifier(random_state=0)\n",
    "rfc = rfc.fit(X_train_pca, y_train)\n",
    "\n",
    "# Test the model by doing some predictions\n",
    "y_pred = rfc.predict(X_test_pca)\n",
    "\n",
    "# See how accurate the predictions are\n",
    "report = classification_report(y_test, y_pred)\n",
    "print('Model accuracy', accuracy_score(y_test, y_pred, normalize=True))\n",
    "print(report)"
   ]
  },
  {
   "cell_type": "markdown",
   "metadata": {},
   "source": [
    "### Features selection "
   ]
  },
  {
   "cell_type": "code",
   "execution_count": 39,
   "metadata": {},
   "outputs": [
    {
     "name": "stdout",
     "output_type": "stream",
     "text": [
      "Model accuracy 0.5846560846560847\n",
      "              precision    recall  f1-score   support\n",
      "\n",
      "           0       0.60      0.59      0.60       195\n",
      "           1       0.57      0.57      0.57       183\n",
      "\n",
      "    accuracy                           0.58       378\n",
      "   macro avg       0.58      0.58      0.58       378\n",
      "weighted avg       0.58      0.58      0.58       378\n",
      "\n"
     ]
    }
   ],
   "source": [
    "predictors = ['RSI', 'MACD','STOCH', '%R', 'PROC', 'ema50', 'ema21', 'ema15', 'ema5', 'normVol']\n",
    "X = HD_5Y_smooth[predictors]\n",
    "y = HD_5Y_smooth['class']\n",
    "# Split data into train and test\n",
    "X_train, X_test, y_train, y_test = train_test_split(X, y, test_size=0.30)\n",
    "\n",
    "# Train the model\n",
    "rfc = RandomForestClassifier(random_state=0)\n",
    "rfc = rfc.fit(X_train, y_train)\n",
    "\n",
    "# Test the model by doing some predictions\n",
    "y_pred = rfc.predict(X_test)\n",
    "\n",
    "# See how accurate the predictions are\n",
    "report = classification_report(y_test, y_pred)\n",
    "print('Model accuracy', accuracy_score(y_test, y_pred, normalize=True))\n",
    "print(report)"
   ]
  },
  {
   "cell_type": "code",
   "execution_count": null,
   "metadata": {},
   "outputs": [],
   "source": []
  }
 ],
 "metadata": {
  "interpreter": {
   "hash": "9efce205f64ad363cd9f14615485aca38ee4ef0915866e318aa83c8d0c93f6fc"
  },
  "kernelspec": {
   "display_name": "Python 3.10.1 64-bit",
   "language": "python",
   "name": "python3"
  },
  "language_info": {
   "codemirror_mode": {
    "name": "ipython",
    "version": 3
   },
   "file_extension": ".py",
   "mimetype": "text/x-python",
   "name": "python",
   "nbconvert_exporter": "python",
   "pygments_lexer": "ipython3",
   "version": "3.10.1"
  },
  "orig_nbformat": 4
 },
 "nbformat": 4,
 "nbformat_minor": 2
}
